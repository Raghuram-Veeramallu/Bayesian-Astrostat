{
  "cells": [
    {
      "cell_type": "markdown",
      "metadata": {
        "id": "view-in-github",
        "colab_type": "text"
      },
      "source": [
        "<a href=\"https://colab.research.google.com/github/Raghuram-Veeramallu/Bayesian-Astrostat/blob/project1/Project%201/Project1_Group3.ipynb\" target=\"_parent\"><img src=\"https://colab.research.google.com/assets/colab-badge.svg\" alt=\"Open In Colab\"/></a>"
      ]
    },
    {
      "cell_type": "markdown",
      "id": "017bd7e8",
      "metadata": {
        "id": "017bd7e8"
      },
      "source": [
        "# AST/STAT 5731 Project 1\n",
        "## Research Synopsis 1\n",
        "\n",
        "**Group: 3**  \n",
        "Hari Veeramallu  \n",
        "Nicholas Kruegler  \n",
        "Daniel Warshofsky  \n",
        "Jonah Koleske  "
      ]
    },
    {
      "cell_type": "markdown",
      "source": [
        "##Preamble\n",
        "\n",
        "The dynamical evolution of a globular cluster (GC) can be impacted by the binary fraction, which is a measurement of the percent of the stars in a GC that are binary systems. Even a small binary fraction can have a large influence by cooling the cluster and pushing the system towards a higher mass concentration. This GC was chosen because a previous survey was carried out that found a sample of binary stars, and the detection rate bias parameter was determined for this galaxy, so we can adjust the recorded rate with the rate that would go undetected."
      ],
      "metadata": {
        "id": "Vyghpn7OWSaL"
      },
      "id": "Vyghpn7OWSaL"
    },
    {
      "cell_type": "markdown",
      "source": [
        "##1. Explain the Model\n",
        "\n",
        "###Data Variables\n",
        "1. $\\theta$, the probability that the star system is binary.  \n",
        "2. $\\theta \\in [0, 1]$  \n",
        "3. $ x = 6, n = 66 $  \n",
        "4. $ X \\in \\{0, 1\\}^{n} $  \n",
        "5. $ X | \\theta  \\in Binomial(n, \\theta) $  \n",
        "6. Given $ a > 0, b > 0 $, then $ \\theta \\sim Beta(a, b) $ (since beta is the conjugate prior of binomial).\n",
        "\n",
        "\n",
        "###Likelihood Function\n",
        "The sample space for observed data is a binary answer: either a star system is binary or it isn’t. Thus, we would expect it to follow a binomial distribution, which will be the model used in the statistical analysis.\n",
        "\n",
        "For a binomial distribution, the expectation value is:\n",
        "$E[X]=n\\theta$\n",
        "\n",
        "The variance is:\n",
        "$Var[X]=n\\theta (1-\\theta)$\n",
        "\n",
        "###Prior Distribution\n",
        "A beta distribution is used for the prior, since the beta distribution is the conjugate prior for the binomial distribution. This makes the analytical calculation of the posterior possible, without relying on Monte Carlo computations. There is already previous knowledge about the binary fraction in the Milky Way, where this specific globular cluster NGC 5053 is found, so we have information for a prior.\n",
        "\n",
        "For a beta distribution $Beta(a,b)$, the expectation value is:\n",
        "$E[X] = \\frac{a}{a+b}$\n",
        "\n",
        "The variance is:\n",
        "$Var[X] = \\frac{ab}{(a+b)^2 (a+b+1)}$\n",
        "\n",
        "###Posterior Distribution\n",
        "Because the likelihood is a binomial distribution and we have assumed the prior to be a beta function, the posterior distribution can be found analytically.\n",
        "\n",
        "Posterior is $\\theta|x \\sim Beta(a+x, n+b-x)$\n",
        "\n",
        "The posterior expectation value will be:\n",
        "$E[X] = \\frac{a+x}{a+b+n}$\n",
        "\n",
        "\n",
        "###Decisions about Data\n",
        "The paper (https://arxiv.org/pdf/astro-ph/9607116.pdf) data from 77 stars NGC 5053 but only 66 had enough radial velocity measurements to determine if they are binary so analysis is restricted to only those stars. For one binary star (candadate ST) the authors were unsure of its membership to the cluster and counted it as being 0.5 of a binary, in our analysis we will count it as a full binary. Our analysis has $x=6$ where as the authors would have $x=5.5$.\n",
        "\n",
        "###Possible Bias and Correction\n",
        "The radial velocity method is only sensitive to the radial motion of the stars so systems that are face-on will not be detected, in the paper the authors preform a simulation to determinne how many systems they were likely to discover. After their anaylsis they determined that they would have discovered 29% of binaries.\n",
        "\n",
        "###Prior Predictive Check"
      ],
      "metadata": {
        "id": "EY8Xgp_AXq7K"
      },
      "id": "EY8Xgp_AXq7K"
    },
    {
      "cell_type": "markdown",
      "id": "df6052ec",
      "metadata": {
        "id": "df6052ec"
      },
      "source": [
        "##Code and Computation Details\n",
        "\n",
        "#### 1. Loading the data and Visualizing them"
      ]
    },
    {
      "cell_type": "code",
      "execution_count": 1,
      "id": "a003130b",
      "metadata": {
        "id": "a003130b"
      },
      "outputs": [],
      "source": [
        "import numpy as np\n",
        "import pandas as pd\n",
        "import matplotlib.pyplot as plt\n",
        "import scipy.stats as stats\n",
        "from random import seed\n",
        "import arviz as az\n",
        "from google.colab import drive\n",
        "az.style.use('arviz-darkgrid')"
      ]
    },
    {
      "cell_type": "code",
      "execution_count": 6,
      "id": "145d444e",
      "metadata": {
        "id": "145d444e",
        "outputId": "9d9dd2b3-d4a9-4716-ba37-755155dd773d",
        "colab": {
          "base_uri": "https://localhost:8080/"
        }
      },
      "outputs": [
        {
          "output_type": "stream",
          "name": "stdout",
          "text": [
            "Drive already mounted at /content/drive; to attempt to forcibly remount, call drive.mount(\"/content/drive\", force_remount=True).\n"
          ]
        }
      ],
      "source": [
        "# for local\n",
        "# df = pd.read_table('./content/BinaryStarsNGC5053.tsv')\n",
        "\n",
        "# for google drive (https://drive.google.com/drive/folders/1hatW5Gb4E7PtSTrPNSCLFlFZZkixh5F9?usp=sharing)\n",
        "drive.mount('/content/drive')\n",
        "df = pd.read_table('drive/MyDrive/BayesianAstrostat/Project1/BinaryStarsNGC5053.tsv')"
      ]
    },
    {
      "cell_type": "code",
      "execution_count": 7,
      "id": "e9b1b4eb",
      "metadata": {
        "scrolled": true,
        "colab": {
          "base_uri": "https://localhost:8080/",
          "height": 363
        },
        "id": "e9b1b4eb",
        "outputId": "de083027-5b2a-40ac-b06e-d64d20c4e231"
      },
      "outputs": [
        {
          "output_type": "execute_result",
          "data": {
            "text/plain": [
              "     Star   Dist     VR      chi2  P(<chi2)\n",
              "64  LY87   118.5  289.5     0.315    0.5745\n",
              "0   S35    450.4  290.8     1.239    0.8760\n",
              "70  LY016  227.4  287.7                 NaN\n",
              "6   ST     318.1  299.2  3938.000    0.0000\n",
              "30  SAH    292.6  290.0     2.752    0.6001\n",
              "47  LY17   222.3  289.9     0.392    0.9420\n",
              "19  LY28   202.9  292.5     1.821    0.6104\n",
              "74  LY13   284.9  292.1     0.268    0.6046\n",
              "75  LY5    251.8  289.2     0.692    0.4054\n",
              "14  LY37   188.9  293.4                 NaN"
            ],
            "text/html": [
              "\n",
              "  <div id=\"df-8a43a0da-db0e-4ac4-b863-5e23985363cb\" class=\"colab-df-container\">\n",
              "    <div>\n",
              "<style scoped>\n",
              "    .dataframe tbody tr th:only-of-type {\n",
              "        vertical-align: middle;\n",
              "    }\n",
              "\n",
              "    .dataframe tbody tr th {\n",
              "        vertical-align: top;\n",
              "    }\n",
              "\n",
              "    .dataframe thead th {\n",
              "        text-align: right;\n",
              "    }\n",
              "</style>\n",
              "<table border=\"1\" class=\"dataframe\">\n",
              "  <thead>\n",
              "    <tr style=\"text-align: right;\">\n",
              "      <th></th>\n",
              "      <th>Star</th>\n",
              "      <th>Dist</th>\n",
              "      <th>VR</th>\n",
              "      <th>chi2</th>\n",
              "      <th>P(&lt;chi2)</th>\n",
              "    </tr>\n",
              "  </thead>\n",
              "  <tbody>\n",
              "    <tr>\n",
              "      <th>64</th>\n",
              "      <td>LY87</td>\n",
              "      <td>118.5</td>\n",
              "      <td>289.5</td>\n",
              "      <td>0.315</td>\n",
              "      <td>0.5745</td>\n",
              "    </tr>\n",
              "    <tr>\n",
              "      <th>0</th>\n",
              "      <td>S35</td>\n",
              "      <td>450.4</td>\n",
              "      <td>290.8</td>\n",
              "      <td>1.239</td>\n",
              "      <td>0.8760</td>\n",
              "    </tr>\n",
              "    <tr>\n",
              "      <th>70</th>\n",
              "      <td>LY016</td>\n",
              "      <td>227.4</td>\n",
              "      <td>287.7</td>\n",
              "      <td></td>\n",
              "      <td>NaN</td>\n",
              "    </tr>\n",
              "    <tr>\n",
              "      <th>6</th>\n",
              "      <td>ST</td>\n",
              "      <td>318.1</td>\n",
              "      <td>299.2</td>\n",
              "      <td>3938.000</td>\n",
              "      <td>0.0000</td>\n",
              "    </tr>\n",
              "    <tr>\n",
              "      <th>30</th>\n",
              "      <td>SAH</td>\n",
              "      <td>292.6</td>\n",
              "      <td>290.0</td>\n",
              "      <td>2.752</td>\n",
              "      <td>0.6001</td>\n",
              "    </tr>\n",
              "    <tr>\n",
              "      <th>47</th>\n",
              "      <td>LY17</td>\n",
              "      <td>222.3</td>\n",
              "      <td>289.9</td>\n",
              "      <td>0.392</td>\n",
              "      <td>0.9420</td>\n",
              "    </tr>\n",
              "    <tr>\n",
              "      <th>19</th>\n",
              "      <td>LY28</td>\n",
              "      <td>202.9</td>\n",
              "      <td>292.5</td>\n",
              "      <td>1.821</td>\n",
              "      <td>0.6104</td>\n",
              "    </tr>\n",
              "    <tr>\n",
              "      <th>74</th>\n",
              "      <td>LY13</td>\n",
              "      <td>284.9</td>\n",
              "      <td>292.1</td>\n",
              "      <td>0.268</td>\n",
              "      <td>0.6046</td>\n",
              "    </tr>\n",
              "    <tr>\n",
              "      <th>75</th>\n",
              "      <td>LY5</td>\n",
              "      <td>251.8</td>\n",
              "      <td>289.2</td>\n",
              "      <td>0.692</td>\n",
              "      <td>0.4054</td>\n",
              "    </tr>\n",
              "    <tr>\n",
              "      <th>14</th>\n",
              "      <td>LY37</td>\n",
              "      <td>188.9</td>\n",
              "      <td>293.4</td>\n",
              "      <td></td>\n",
              "      <td>NaN</td>\n",
              "    </tr>\n",
              "  </tbody>\n",
              "</table>\n",
              "</div>\n",
              "    <div class=\"colab-df-buttons\">\n",
              "\n",
              "  <div class=\"colab-df-container\">\n",
              "    <button class=\"colab-df-convert\" onclick=\"convertToInteractive('df-8a43a0da-db0e-4ac4-b863-5e23985363cb')\"\n",
              "            title=\"Convert this dataframe to an interactive table.\"\n",
              "            style=\"display:none;\">\n",
              "\n",
              "  <svg xmlns=\"http://www.w3.org/2000/svg\" height=\"24px\" viewBox=\"0 -960 960 960\">\n",
              "    <path d=\"M120-120v-720h720v720H120Zm60-500h600v-160H180v160Zm220 220h160v-160H400v160Zm0 220h160v-160H400v160ZM180-400h160v-160H180v160Zm440 0h160v-160H620v160ZM180-180h160v-160H180v160Zm440 0h160v-160H620v160Z\"/>\n",
              "  </svg>\n",
              "    </button>\n",
              "\n",
              "  <style>\n",
              "    .colab-df-container {\n",
              "      display:flex;\n",
              "      gap: 12px;\n",
              "    }\n",
              "\n",
              "    .colab-df-convert {\n",
              "      background-color: #E8F0FE;\n",
              "      border: none;\n",
              "      border-radius: 50%;\n",
              "      cursor: pointer;\n",
              "      display: none;\n",
              "      fill: #1967D2;\n",
              "      height: 32px;\n",
              "      padding: 0 0 0 0;\n",
              "      width: 32px;\n",
              "    }\n",
              "\n",
              "    .colab-df-convert:hover {\n",
              "      background-color: #E2EBFA;\n",
              "      box-shadow: 0px 1px 2px rgba(60, 64, 67, 0.3), 0px 1px 3px 1px rgba(60, 64, 67, 0.15);\n",
              "      fill: #174EA6;\n",
              "    }\n",
              "\n",
              "    .colab-df-buttons div {\n",
              "      margin-bottom: 4px;\n",
              "    }\n",
              "\n",
              "    [theme=dark] .colab-df-convert {\n",
              "      background-color: #3B4455;\n",
              "      fill: #D2E3FC;\n",
              "    }\n",
              "\n",
              "    [theme=dark] .colab-df-convert:hover {\n",
              "      background-color: #434B5C;\n",
              "      box-shadow: 0px 1px 3px 1px rgba(0, 0, 0, 0.15);\n",
              "      filter: drop-shadow(0px 1px 2px rgba(0, 0, 0, 0.3));\n",
              "      fill: #FFFFFF;\n",
              "    }\n",
              "  </style>\n",
              "\n",
              "    <script>\n",
              "      const buttonEl =\n",
              "        document.querySelector('#df-8a43a0da-db0e-4ac4-b863-5e23985363cb button.colab-df-convert');\n",
              "      buttonEl.style.display =\n",
              "        google.colab.kernel.accessAllowed ? 'block' : 'none';\n",
              "\n",
              "      async function convertToInteractive(key) {\n",
              "        const element = document.querySelector('#df-8a43a0da-db0e-4ac4-b863-5e23985363cb');\n",
              "        const dataTable =\n",
              "          await google.colab.kernel.invokeFunction('convertToInteractive',\n",
              "                                                    [key], {});\n",
              "        if (!dataTable) return;\n",
              "\n",
              "        const docLinkHtml = 'Like what you see? Visit the ' +\n",
              "          '<a target=\"_blank\" href=https://colab.research.google.com/notebooks/data_table.ipynb>data table notebook</a>'\n",
              "          + ' to learn more about interactive tables.';\n",
              "        element.innerHTML = '';\n",
              "        dataTable['output_type'] = 'display_data';\n",
              "        await google.colab.output.renderOutput(dataTable, element);\n",
              "        const docLink = document.createElement('div');\n",
              "        docLink.innerHTML = docLinkHtml;\n",
              "        element.appendChild(docLink);\n",
              "      }\n",
              "    </script>\n",
              "  </div>\n",
              "\n",
              "\n",
              "<div id=\"df-457f4715-3ff8-49ae-aa63-8bc3a13e884e\">\n",
              "  <button class=\"colab-df-quickchart\" onclick=\"quickchart('df-457f4715-3ff8-49ae-aa63-8bc3a13e884e')\"\n",
              "            title=\"Suggest charts.\"\n",
              "            style=\"display:none;\">\n",
              "\n",
              "<svg xmlns=\"http://www.w3.org/2000/svg\" height=\"24px\"viewBox=\"0 0 24 24\"\n",
              "     width=\"24px\">\n",
              "    <g>\n",
              "        <path d=\"M19 3H5c-1.1 0-2 .9-2 2v14c0 1.1.9 2 2 2h14c1.1 0 2-.9 2-2V5c0-1.1-.9-2-2-2zM9 17H7v-7h2v7zm4 0h-2V7h2v10zm4 0h-2v-4h2v4z\"/>\n",
              "    </g>\n",
              "</svg>\n",
              "  </button>\n",
              "\n",
              "<style>\n",
              "  .colab-df-quickchart {\n",
              "      --bg-color: #E8F0FE;\n",
              "      --fill-color: #1967D2;\n",
              "      --hover-bg-color: #E2EBFA;\n",
              "      --hover-fill-color: #174EA6;\n",
              "      --disabled-fill-color: #AAA;\n",
              "      --disabled-bg-color: #DDD;\n",
              "  }\n",
              "\n",
              "  [theme=dark] .colab-df-quickchart {\n",
              "      --bg-color: #3B4455;\n",
              "      --fill-color: #D2E3FC;\n",
              "      --hover-bg-color: #434B5C;\n",
              "      --hover-fill-color: #FFFFFF;\n",
              "      --disabled-bg-color: #3B4455;\n",
              "      --disabled-fill-color: #666;\n",
              "  }\n",
              "\n",
              "  .colab-df-quickchart {\n",
              "    background-color: var(--bg-color);\n",
              "    border: none;\n",
              "    border-radius: 50%;\n",
              "    cursor: pointer;\n",
              "    display: none;\n",
              "    fill: var(--fill-color);\n",
              "    height: 32px;\n",
              "    padding: 0;\n",
              "    width: 32px;\n",
              "  }\n",
              "\n",
              "  .colab-df-quickchart:hover {\n",
              "    background-color: var(--hover-bg-color);\n",
              "    box-shadow: 0 1px 2px rgba(60, 64, 67, 0.3), 0 1px 3px 1px rgba(60, 64, 67, 0.15);\n",
              "    fill: var(--button-hover-fill-color);\n",
              "  }\n",
              "\n",
              "  .colab-df-quickchart-complete:disabled,\n",
              "  .colab-df-quickchart-complete:disabled:hover {\n",
              "    background-color: var(--disabled-bg-color);\n",
              "    fill: var(--disabled-fill-color);\n",
              "    box-shadow: none;\n",
              "  }\n",
              "\n",
              "  .colab-df-spinner {\n",
              "    border: 2px solid var(--fill-color);\n",
              "    border-color: transparent;\n",
              "    border-bottom-color: var(--fill-color);\n",
              "    animation:\n",
              "      spin 1s steps(1) infinite;\n",
              "  }\n",
              "\n",
              "  @keyframes spin {\n",
              "    0% {\n",
              "      border-color: transparent;\n",
              "      border-bottom-color: var(--fill-color);\n",
              "      border-left-color: var(--fill-color);\n",
              "    }\n",
              "    20% {\n",
              "      border-color: transparent;\n",
              "      border-left-color: var(--fill-color);\n",
              "      border-top-color: var(--fill-color);\n",
              "    }\n",
              "    30% {\n",
              "      border-color: transparent;\n",
              "      border-left-color: var(--fill-color);\n",
              "      border-top-color: var(--fill-color);\n",
              "      border-right-color: var(--fill-color);\n",
              "    }\n",
              "    40% {\n",
              "      border-color: transparent;\n",
              "      border-right-color: var(--fill-color);\n",
              "      border-top-color: var(--fill-color);\n",
              "    }\n",
              "    60% {\n",
              "      border-color: transparent;\n",
              "      border-right-color: var(--fill-color);\n",
              "    }\n",
              "    80% {\n",
              "      border-color: transparent;\n",
              "      border-right-color: var(--fill-color);\n",
              "      border-bottom-color: var(--fill-color);\n",
              "    }\n",
              "    90% {\n",
              "      border-color: transparent;\n",
              "      border-bottom-color: var(--fill-color);\n",
              "    }\n",
              "  }\n",
              "</style>\n",
              "\n",
              "  <script>\n",
              "    async function quickchart(key) {\n",
              "      const quickchartButtonEl =\n",
              "        document.querySelector('#' + key + ' button');\n",
              "      quickchartButtonEl.disabled = true;  // To prevent multiple clicks.\n",
              "      quickchartButtonEl.classList.add('colab-df-spinner');\n",
              "      try {\n",
              "        const charts = await google.colab.kernel.invokeFunction(\n",
              "            'suggestCharts', [key], {});\n",
              "      } catch (error) {\n",
              "        console.error('Error during call to suggestCharts:', error);\n",
              "      }\n",
              "      quickchartButtonEl.classList.remove('colab-df-spinner');\n",
              "      quickchartButtonEl.classList.add('colab-df-quickchart-complete');\n",
              "    }\n",
              "    (() => {\n",
              "      let quickchartButtonEl =\n",
              "        document.querySelector('#df-457f4715-3ff8-49ae-aa63-8bc3a13e884e button');\n",
              "      quickchartButtonEl.style.display =\n",
              "        google.colab.kernel.accessAllowed ? 'block' : 'none';\n",
              "    })();\n",
              "  </script>\n",
              "</div>\n",
              "    </div>\n",
              "  </div>\n"
            ]
          },
          "metadata": {},
          "execution_count": 7
        }
      ],
      "source": [
        "df.sample(10)"
      ]
    },
    {
      "cell_type": "markdown",
      "id": "7a26cf64",
      "metadata": {
        "id": "7a26cf64"
      },
      "source": [
        "**Data Description:**  \n",
        "*Star* - Name of the star system.  \n",
        "*Dist* - Radial distance of the star from the cluster  \n",
        "*VR* - Weighted Mean Radial Velocity.  \n",
        "*chi2* - Radial Velocity variability over the timespan of 3 years.  \n",
        "*P(<chi2)* - Probability  "
      ]
    },
    {
      "cell_type": "code",
      "execution_count": 8,
      "id": "8876f94a",
      "metadata": {
        "scrolled": false,
        "colab": {
          "base_uri": "https://localhost:8080/",
          "height": 300
        },
        "id": "8876f94a",
        "outputId": "b5a4921f-cac0-4b6d-f3f3-2f9351ddb4bc"
      },
      "outputs": [
        {
          "output_type": "execute_result",
          "data": {
            "text/plain": [
              "             Dist          VR   P(<chi2)\n",
              "count   77.000000   77.000000  66.000000\n",
              "mean   210.640260  291.355844   0.478300\n",
              "std    117.873282    2.339562   0.288685\n",
              "min     15.200000  286.600000   0.000000\n",
              "25%    125.100000  290.000000   0.265450\n",
              "50%    205.400000  291.000000   0.498950\n",
              "75%    275.800000  292.500000   0.711400\n",
              "max    513.900000  299.200000   0.942000"
            ],
            "text/html": [
              "\n",
              "  <div id=\"df-83326834-afcb-4e80-b224-4586ab05adad\" class=\"colab-df-container\">\n",
              "    <div>\n",
              "<style scoped>\n",
              "    .dataframe tbody tr th:only-of-type {\n",
              "        vertical-align: middle;\n",
              "    }\n",
              "\n",
              "    .dataframe tbody tr th {\n",
              "        vertical-align: top;\n",
              "    }\n",
              "\n",
              "    .dataframe thead th {\n",
              "        text-align: right;\n",
              "    }\n",
              "</style>\n",
              "<table border=\"1\" class=\"dataframe\">\n",
              "  <thead>\n",
              "    <tr style=\"text-align: right;\">\n",
              "      <th></th>\n",
              "      <th>Dist</th>\n",
              "      <th>VR</th>\n",
              "      <th>P(&lt;chi2)</th>\n",
              "    </tr>\n",
              "  </thead>\n",
              "  <tbody>\n",
              "    <tr>\n",
              "      <th>count</th>\n",
              "      <td>77.000000</td>\n",
              "      <td>77.000000</td>\n",
              "      <td>66.000000</td>\n",
              "    </tr>\n",
              "    <tr>\n",
              "      <th>mean</th>\n",
              "      <td>210.640260</td>\n",
              "      <td>291.355844</td>\n",
              "      <td>0.478300</td>\n",
              "    </tr>\n",
              "    <tr>\n",
              "      <th>std</th>\n",
              "      <td>117.873282</td>\n",
              "      <td>2.339562</td>\n",
              "      <td>0.288685</td>\n",
              "    </tr>\n",
              "    <tr>\n",
              "      <th>min</th>\n",
              "      <td>15.200000</td>\n",
              "      <td>286.600000</td>\n",
              "      <td>0.000000</td>\n",
              "    </tr>\n",
              "    <tr>\n",
              "      <th>25%</th>\n",
              "      <td>125.100000</td>\n",
              "      <td>290.000000</td>\n",
              "      <td>0.265450</td>\n",
              "    </tr>\n",
              "    <tr>\n",
              "      <th>50%</th>\n",
              "      <td>205.400000</td>\n",
              "      <td>291.000000</td>\n",
              "      <td>0.498950</td>\n",
              "    </tr>\n",
              "    <tr>\n",
              "      <th>75%</th>\n",
              "      <td>275.800000</td>\n",
              "      <td>292.500000</td>\n",
              "      <td>0.711400</td>\n",
              "    </tr>\n",
              "    <tr>\n",
              "      <th>max</th>\n",
              "      <td>513.900000</td>\n",
              "      <td>299.200000</td>\n",
              "      <td>0.942000</td>\n",
              "    </tr>\n",
              "  </tbody>\n",
              "</table>\n",
              "</div>\n",
              "    <div class=\"colab-df-buttons\">\n",
              "\n",
              "  <div class=\"colab-df-container\">\n",
              "    <button class=\"colab-df-convert\" onclick=\"convertToInteractive('df-83326834-afcb-4e80-b224-4586ab05adad')\"\n",
              "            title=\"Convert this dataframe to an interactive table.\"\n",
              "            style=\"display:none;\">\n",
              "\n",
              "  <svg xmlns=\"http://www.w3.org/2000/svg\" height=\"24px\" viewBox=\"0 -960 960 960\">\n",
              "    <path d=\"M120-120v-720h720v720H120Zm60-500h600v-160H180v160Zm220 220h160v-160H400v160Zm0 220h160v-160H400v160ZM180-400h160v-160H180v160Zm440 0h160v-160H620v160ZM180-180h160v-160H180v160Zm440 0h160v-160H620v160Z\"/>\n",
              "  </svg>\n",
              "    </button>\n",
              "\n",
              "  <style>\n",
              "    .colab-df-container {\n",
              "      display:flex;\n",
              "      gap: 12px;\n",
              "    }\n",
              "\n",
              "    .colab-df-convert {\n",
              "      background-color: #E8F0FE;\n",
              "      border: none;\n",
              "      border-radius: 50%;\n",
              "      cursor: pointer;\n",
              "      display: none;\n",
              "      fill: #1967D2;\n",
              "      height: 32px;\n",
              "      padding: 0 0 0 0;\n",
              "      width: 32px;\n",
              "    }\n",
              "\n",
              "    .colab-df-convert:hover {\n",
              "      background-color: #E2EBFA;\n",
              "      box-shadow: 0px 1px 2px rgba(60, 64, 67, 0.3), 0px 1px 3px 1px rgba(60, 64, 67, 0.15);\n",
              "      fill: #174EA6;\n",
              "    }\n",
              "\n",
              "    .colab-df-buttons div {\n",
              "      margin-bottom: 4px;\n",
              "    }\n",
              "\n",
              "    [theme=dark] .colab-df-convert {\n",
              "      background-color: #3B4455;\n",
              "      fill: #D2E3FC;\n",
              "    }\n",
              "\n",
              "    [theme=dark] .colab-df-convert:hover {\n",
              "      background-color: #434B5C;\n",
              "      box-shadow: 0px 1px 3px 1px rgba(0, 0, 0, 0.15);\n",
              "      filter: drop-shadow(0px 1px 2px rgba(0, 0, 0, 0.3));\n",
              "      fill: #FFFFFF;\n",
              "    }\n",
              "  </style>\n",
              "\n",
              "    <script>\n",
              "      const buttonEl =\n",
              "        document.querySelector('#df-83326834-afcb-4e80-b224-4586ab05adad button.colab-df-convert');\n",
              "      buttonEl.style.display =\n",
              "        google.colab.kernel.accessAllowed ? 'block' : 'none';\n",
              "\n",
              "      async function convertToInteractive(key) {\n",
              "        const element = document.querySelector('#df-83326834-afcb-4e80-b224-4586ab05adad');\n",
              "        const dataTable =\n",
              "          await google.colab.kernel.invokeFunction('convertToInteractive',\n",
              "                                                    [key], {});\n",
              "        if (!dataTable) return;\n",
              "\n",
              "        const docLinkHtml = 'Like what you see? Visit the ' +\n",
              "          '<a target=\"_blank\" href=https://colab.research.google.com/notebooks/data_table.ipynb>data table notebook</a>'\n",
              "          + ' to learn more about interactive tables.';\n",
              "        element.innerHTML = '';\n",
              "        dataTable['output_type'] = 'display_data';\n",
              "        await google.colab.output.renderOutput(dataTable, element);\n",
              "        const docLink = document.createElement('div');\n",
              "        docLink.innerHTML = docLinkHtml;\n",
              "        element.appendChild(docLink);\n",
              "      }\n",
              "    </script>\n",
              "  </div>\n",
              "\n",
              "\n",
              "<div id=\"df-706c443e-eec7-4f47-93cf-e5e5808aa77b\">\n",
              "  <button class=\"colab-df-quickchart\" onclick=\"quickchart('df-706c443e-eec7-4f47-93cf-e5e5808aa77b')\"\n",
              "            title=\"Suggest charts.\"\n",
              "            style=\"display:none;\">\n",
              "\n",
              "<svg xmlns=\"http://www.w3.org/2000/svg\" height=\"24px\"viewBox=\"0 0 24 24\"\n",
              "     width=\"24px\">\n",
              "    <g>\n",
              "        <path d=\"M19 3H5c-1.1 0-2 .9-2 2v14c0 1.1.9 2 2 2h14c1.1 0 2-.9 2-2V5c0-1.1-.9-2-2-2zM9 17H7v-7h2v7zm4 0h-2V7h2v10zm4 0h-2v-4h2v4z\"/>\n",
              "    </g>\n",
              "</svg>\n",
              "  </button>\n",
              "\n",
              "<style>\n",
              "  .colab-df-quickchart {\n",
              "      --bg-color: #E8F0FE;\n",
              "      --fill-color: #1967D2;\n",
              "      --hover-bg-color: #E2EBFA;\n",
              "      --hover-fill-color: #174EA6;\n",
              "      --disabled-fill-color: #AAA;\n",
              "      --disabled-bg-color: #DDD;\n",
              "  }\n",
              "\n",
              "  [theme=dark] .colab-df-quickchart {\n",
              "      --bg-color: #3B4455;\n",
              "      --fill-color: #D2E3FC;\n",
              "      --hover-bg-color: #434B5C;\n",
              "      --hover-fill-color: #FFFFFF;\n",
              "      --disabled-bg-color: #3B4455;\n",
              "      --disabled-fill-color: #666;\n",
              "  }\n",
              "\n",
              "  .colab-df-quickchart {\n",
              "    background-color: var(--bg-color);\n",
              "    border: none;\n",
              "    border-radius: 50%;\n",
              "    cursor: pointer;\n",
              "    display: none;\n",
              "    fill: var(--fill-color);\n",
              "    height: 32px;\n",
              "    padding: 0;\n",
              "    width: 32px;\n",
              "  }\n",
              "\n",
              "  .colab-df-quickchart:hover {\n",
              "    background-color: var(--hover-bg-color);\n",
              "    box-shadow: 0 1px 2px rgba(60, 64, 67, 0.3), 0 1px 3px 1px rgba(60, 64, 67, 0.15);\n",
              "    fill: var(--button-hover-fill-color);\n",
              "  }\n",
              "\n",
              "  .colab-df-quickchart-complete:disabled,\n",
              "  .colab-df-quickchart-complete:disabled:hover {\n",
              "    background-color: var(--disabled-bg-color);\n",
              "    fill: var(--disabled-fill-color);\n",
              "    box-shadow: none;\n",
              "  }\n",
              "\n",
              "  .colab-df-spinner {\n",
              "    border: 2px solid var(--fill-color);\n",
              "    border-color: transparent;\n",
              "    border-bottom-color: var(--fill-color);\n",
              "    animation:\n",
              "      spin 1s steps(1) infinite;\n",
              "  }\n",
              "\n",
              "  @keyframes spin {\n",
              "    0% {\n",
              "      border-color: transparent;\n",
              "      border-bottom-color: var(--fill-color);\n",
              "      border-left-color: var(--fill-color);\n",
              "    }\n",
              "    20% {\n",
              "      border-color: transparent;\n",
              "      border-left-color: var(--fill-color);\n",
              "      border-top-color: var(--fill-color);\n",
              "    }\n",
              "    30% {\n",
              "      border-color: transparent;\n",
              "      border-left-color: var(--fill-color);\n",
              "      border-top-color: var(--fill-color);\n",
              "      border-right-color: var(--fill-color);\n",
              "    }\n",
              "    40% {\n",
              "      border-color: transparent;\n",
              "      border-right-color: var(--fill-color);\n",
              "      border-top-color: var(--fill-color);\n",
              "    }\n",
              "    60% {\n",
              "      border-color: transparent;\n",
              "      border-right-color: var(--fill-color);\n",
              "    }\n",
              "    80% {\n",
              "      border-color: transparent;\n",
              "      border-right-color: var(--fill-color);\n",
              "      border-bottom-color: var(--fill-color);\n",
              "    }\n",
              "    90% {\n",
              "      border-color: transparent;\n",
              "      border-bottom-color: var(--fill-color);\n",
              "    }\n",
              "  }\n",
              "</style>\n",
              "\n",
              "  <script>\n",
              "    async function quickchart(key) {\n",
              "      const quickchartButtonEl =\n",
              "        document.querySelector('#' + key + ' button');\n",
              "      quickchartButtonEl.disabled = true;  // To prevent multiple clicks.\n",
              "      quickchartButtonEl.classList.add('colab-df-spinner');\n",
              "      try {\n",
              "        const charts = await google.colab.kernel.invokeFunction(\n",
              "            'suggestCharts', [key], {});\n",
              "      } catch (error) {\n",
              "        console.error('Error during call to suggestCharts:', error);\n",
              "      }\n",
              "      quickchartButtonEl.classList.remove('colab-df-spinner');\n",
              "      quickchartButtonEl.classList.add('colab-df-quickchart-complete');\n",
              "    }\n",
              "    (() => {\n",
              "      let quickchartButtonEl =\n",
              "        document.querySelector('#df-706c443e-eec7-4f47-93cf-e5e5808aa77b button');\n",
              "      quickchartButtonEl.style.display =\n",
              "        google.colab.kernel.accessAllowed ? 'block' : 'none';\n",
              "    })();\n",
              "  </script>\n",
              "</div>\n",
              "    </div>\n",
              "  </div>\n"
            ]
          },
          "metadata": {},
          "execution_count": 8
        }
      ],
      "source": [
        "df.describe()"
      ]
    },
    {
      "cell_type": "markdown",
      "id": "012fb9a5",
      "metadata": {
        "id": "012fb9a5"
      },
      "source": [
        "Within these stars the binary stars are defined as the ones having *P(<chi2)* $\\lt 0.01$.  "
      ]
    },
    {
      "cell_type": "code",
      "execution_count": 15,
      "id": "2406bb6e",
      "metadata": {
        "id": "2406bb6e"
      },
      "outputs": [],
      "source": [
        "sin_obs = df[df['P(<chi2)'].isna()]\n",
        "mul_obs = df[~df['P(<chi2)'].isna()]\n",
        "bin_stars = mul_obs[mul_obs['P(<chi2)'] < 0.01]"
      ]
    },
    {
      "cell_type": "code",
      "execution_count": 16,
      "id": "193e260a",
      "metadata": {
        "colab": {
          "base_uri": "https://localhost:8080/"
        },
        "id": "193e260a",
        "outputId": "b8dc44c5-4df8-4ac0-c710-81e9201a3add"
      },
      "outputs": [
        {
          "output_type": "stream",
          "name": "stdout",
          "text": [
            "Total number of star systems present: 77\n",
            "Number of star systems having only a single Radial Velocity measurement: 11\n",
            "Number of star systems having multiple Radial Velocity measurements: 66\n",
            "Number of binary stars among the ones with multiple RV measurements: 6\n"
          ]
        }
      ],
      "source": [
        "print(f'Total number of star systems present: {len(df)}')\n",
        "print(f'Number of star systems having only a single Radial Velocity measurement: {len(sin_obs)}')\n",
        "print(f'Number of star systems having multiple Radial Velocity measurements: {len(mul_obs)}')\n",
        "print(f'Number of binary stars among the ones with multiple RV measurements: {len(bin_stars)}')"
      ]
    },
    {
      "cell_type": "markdown",
      "id": "6d54c985",
      "metadata": {
        "id": "6d54c985"
      },
      "source": [
        "From the description we can see that only 66 out of the 77 can be used for binary search since the remaining 11 only have a single radial velocity measurement observed."
      ]
    },
    {
      "cell_type": "markdown",
      "id": "ede5360f",
      "metadata": {
        "id": "ede5360f"
      },
      "source": [
        "### 2. Visualizing the data"
      ]
    },
    {
      "cell_type": "code",
      "execution_count": 17,
      "id": "4270ad7f",
      "metadata": {
        "colab": {
          "base_uri": "https://localhost:8080/",
          "height": 508
        },
        "id": "4270ad7f",
        "outputId": "bea49edf-a9d2-4ed5-894e-c2e4d1406584"
      },
      "outputs": [
        {
          "output_type": "display_data",
          "data": {
            "text/plain": [
              "<Figure size 720x480 with 2 Axes>"
            ],
            "image/png": "[encoded data removed]"
          },
          "metadata": {}
        }
      ],
      "source": [
        "# histogram of Weighted Mean Radial Velocities (VR)\n",
        "fig, ax = plt.subplots(1, 2)\n",
        "ax[0].hist(df['VR'])\n",
        "ax[0].set_xlabel('Weighted Mean Radial Velocity', size = 10)\n",
        "ax[0].set_ylabel('Counts', size = 10)\n",
        "ax[0].set_title('Histogram of the VR (Entire Data)', size = 10)\n",
        "ax[1].hist(mul_obs['VR'])\n",
        "ax[1].set_xlabel('Weighted Mean Radial Velocity', size = 10)\n",
        "ax[1].set_ylabel('Counts', size = 10)\n",
        "ax[1].set_title('Histogram of the VR (Mutiple obs. star systems)', size = 10)\n",
        "\n",
        "plt.show()"
      ]
    },
    {
      "cell_type": "code",
      "execution_count": 18,
      "id": "b60d7a62",
      "metadata": {
        "colab": {
          "base_uri": "https://localhost:8080/",
          "height": 508
        },
        "id": "b60d7a62",
        "outputId": "70edec0a-ad68-44ca-cb84-cc59cffd5e03"
      },
      "outputs": [
        {
          "output_type": "display_data",
          "data": {
            "text/plain": [
              "<Figure size 720x480 with 1 Axes>"
            ],
            "image/png": "[encoded data removed]"
          },
          "metadata": {}
        }
      ],
      "source": [
        "plt.hist(mul_obs['P(<chi2)'])\n",
        "plt.vlines(0.01, 0, 20, label = \"Binary Star Cut-off\", color='r')\n",
        "plt.xlabel('Probability', size=10)\n",
        "plt.ylabel('Counts', size=10)\n",
        "plt.title('Histogram of the probabilities P(<chi2)', size=10)\n",
        "plt.legend(prop={'size': 10})\n",
        "plt.show()"
      ]
    },
    {
      "cell_type": "markdown",
      "id": "4993b698",
      "metadata": {
        "id": "4993b698"
      },
      "source": [
        "### 3. Model"
      ]
    },
    {
      "cell_type": "markdown",
      "id": "79a38814",
      "metadata": {
        "id": "79a38814"
      },
      "source": [
        "1. $\\theta$, the probability that the star system is binary.  \n",
        "2. $\\theta \\in [0, 1]$  \n",
        "3. $ x = 6, n = 66 $  \n",
        "4. $ \\mathcal{X} \\in \\{0, 1\\}^{n} $  \n",
        "5. $ X | \\theta  \\in Binomial(n, \\theta) $  \n",
        "6. Given $ a > 0, b > 0 $, then $ \\theta \\sim Beta(a, b) $ (since beta is the conjugate prior of binomial)."
      ]
    },
    {
      "cell_type": "markdown",
      "id": "146797c1",
      "metadata": {
        "id": "146797c1"
      },
      "source": [
        "Posterior is $\\theta|x \\sim Beta(a+x, n+b-x)$  "
      ]
    },
    {
      "cell_type": "markdown",
      "id": "de08cb61",
      "metadata": {
        "id": "de08cb61"
      },
      "source": [
        "$E[X] = \\frac{a}{a+b}$  "
      ]
    },
    {
      "cell_type": "markdown",
      "id": "27f10052",
      "metadata": {
        "id": "27f10052"
      },
      "source": [
        "$Var[X] = \\frac{ab}{(a+b)^2 (a+b+1)}$  "
      ]
    },
    {
      "cell_type": "markdown",
      "id": "7be2e037",
      "metadata": {
        "id": "7be2e037"
      },
      "source": [
        "Assuming that the probability of a star system is binary is uniform, a = 1, b = 1"
      ]
    },
    {
      "cell_type": "markdown",
      "id": "934e64d0",
      "metadata": {
        "id": "934e64d0"
      },
      "source": [
        "That would make the posterior $ => $ $ \\theta | x \\sim Beta(7, 61) $  \n",
        "and $E[X] = \\frac{1}{2} , Var[X] = \\frac{1}{12} $"
      ]
    },
    {
      "cell_type": "code",
      "execution_count": 19,
      "id": "66f7805f",
      "metadata": {
        "id": "66f7805f"
      },
      "outputs": [],
      "source": [
        "a = 1\n",
        "b = 1\n",
        "nobs = len(mul_obs)\n",
        "nbin_obs = len(bin_stars)"
      ]
    },
    {
      "cell_type": "markdown",
      "source": [
        "$a' = a + x$  \n",
        "$b' = n + b - x$"
      ],
      "metadata": {
        "id": "xZ5Dz2Bzmo6t"
      },
      "id": "xZ5Dz2Bzmo6t"
    },
    {
      "cell_type": "code",
      "source": [
        "a_bar = a + nbin_obs\n",
        "b_bar = nobs + b - nbin_obs\n",
        "\n",
        "print(f'a\\': {a_bar}, b\\': {b_bar}')"
      ],
      "metadata": {
        "id": "VxuVqEQBmUil",
        "outputId": "eb5ddd5a-c191-46a8-d88a-03c1c5a205f4",
        "colab": {
          "base_uri": "https://localhost:8080/"
        }
      },
      "id": "VxuVqEQBmUil",
      "execution_count": 22,
      "outputs": [
        {
          "output_type": "stream",
          "name": "stdout",
          "text": [
            "a': 7, b': 61\n"
          ]
        }
      ]
    },
    {
      "cell_type": "code",
      "source": [
        "post_mean = a_bar / (a_bar + b_bar)\n",
        "post_var = (a_bar * b_bar)/((a_bar + b_bar) ** 2 * (a_bar + b_bar + 1))\n",
        "print(f'Posterior Mean: {round(post_mean, 4)} and Posterior Variance: {round(post_var, 4)}')"
      ],
      "metadata": {
        "id": "wN6iphZzmVLH",
        "outputId": "27acb2f3-4aad-455a-e56b-f254965a4e96",
        "colab": {
          "base_uri": "https://localhost:8080/"
        }
      },
      "id": "wN6iphZzmVLH",
      "execution_count": 24,
      "outputs": [
        {
          "output_type": "stream",
          "name": "stdout",
          "text": [
            "Posterior Mean: 0.1029 and Posterior Variance: 0.0013\n"
          ]
        }
      ]
    },
    {
      "cell_type": "code",
      "source": [
        "post_lb = stats.beta.ppf(0.025, a_bar, b_bar)\n",
        "post_ub = stats.beta.ppf(0.975, a_bar, b_bar)\n",
        "print(f'Lower bound: {round(post_lb, 4)} and Upper bound: {round(post_ub, 4)}')"
      ],
      "metadata": {
        "id": "ZG4b0OcqnXi0",
        "outputId": "1da8f695-564c-4e2d-83f0-5d2f78a83923",
        "colab": {
          "base_uri": "https://localhost:8080/"
        }
      },
      "id": "ZG4b0OcqnXi0",
      "execution_count": 26,
      "outputs": [
        {
          "output_type": "stream",
          "name": "stdout",
          "text": [
            "Lower bound: 0.043 and Upper bound: 0.1848\n"
          ]
        }
      ]
    },
    {
      "cell_type": "code",
      "source": [
        "fig, ax = plt.subplots(1, 2)\n",
        "x1 = np.linspace(stats.beta.ppf(0.025, 1, 1), stats.beta.ppf(0.975, 1, 1), 100)\n",
        "y1 = stats.beta.pdf(x1, a, b)\n",
        "ax[0].plot(x1, y1)\n",
        "ax[0].set_title('Prior')\n",
        "\n",
        "x2 = np.linspace(stats.beta.ppf(0.025, a_bar, b_bar), stats.beta.ppf(0.975, a_bar, b_bar), 100)\n",
        "y2 = stats.beta.pdf(x2, a_bar, b_bar)\n",
        "ax[1].plot(x2,y2)\n",
        "ax[1].axvline(post_mean, color='r', ls='--')\n",
        "ax[1].set_title('Posterior')\n",
        "\n",
        "fig.show()"
      ],
      "metadata": {
        "id": "IGvzjeTTnnH-",
        "outputId": "ee45a24d-c0b8-4192-bb1a-93214f0af114",
        "colab": {
          "base_uri": "https://localhost:8080/",
          "height": 508
        }
      },
      "id": "IGvzjeTTnnH-",
      "execution_count": 29,
      "outputs": [
        {
          "output_type": "display_data",
          "data": {
            "text/plain": [
              "<Figure size 720x480 with 2 Axes>"
            ],
            "image/png": "[encoded data removed]"
          },
          "metadata": {}
        }
      ]
    },
    {
      "cell_type": "code",
      "source": [],
      "metadata": {
        "id": "pFdMGXgaoWrO"
      },
      "id": "pFdMGXgaoWrO",
      "execution_count": null,
      "outputs": []
    }
  ],
  "metadata": {
    "kernelspec": {
      "display_name": "Python 3 (ipykernel)",
      "language": "python",
      "name": "python3"
    },
    "language_info": {
      "codemirror_mode": {
        "name": "ipython",
        "version": 3
      },
      "file_extension": ".py",
      "mimetype": "text/x-python",
      "name": "python",
      "nbconvert_exporter": "python",
      "pygments_lexer": "ipython3",
      "version": "3.11.5"
    },
    "colab": {
      "provenance": [],
      "include_colab_link": true
    }
  },
  "nbformat": 4,
  "nbformat_minor": 5
}