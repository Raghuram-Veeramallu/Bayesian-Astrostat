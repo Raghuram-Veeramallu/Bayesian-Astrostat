{
 "cells": [
  {
   "cell_type": "markdown",
   "id": "017bd7e8",
   "metadata": {},
   "source": [
    "## AST/STAT 5731 Project 1\n",
    "### Research Synopsis 1\n",
    "\n",
    "**Group: 3**  \n",
    "Hari Veeramallu  \n",
    "Nicholas Kruegler  \n",
    "Daniel Warshofsky  \n",
    "Jonah Koleske  "
   ]
  },
  {
   "cell_type": "markdown",
   "id": "df6052ec",
   "metadata": {},
   "source": [
    "### 1. Loading the data and Visualizing them"
   ]
  },
  {
   "cell_type": "code",
   "execution_count": 2,
   "id": "a003130b",
   "metadata": {},
   "outputs": [],
   "source": [
    "import numpy as np\n",
    "import pandas as pd\n",
    "import matplotlib.pyplot as plt\n",
    "import scipy.stats as stats\n",
    "from random import seed\n",
    "import arviz as az\n",
    "az.style.use('arviz-darkgrid')"
   ]
  },
  {
   "cell_type": "code",
   "execution_count": 5,
   "id": "145d444e",
   "metadata": {},
   "outputs": [
    {
     "name": "stderr",
     "output_type": "stream",
     "text": [
      "/var/folders/0y/g8st3jw105s9wzrnrq3p1b1r0000gn/T/ipykernel_2595/459367608.py:1: ParserWarning: Falling back to the 'python' engine because the 'c' engine does not support regex separators (separators > 1 char and different from '\\s+' are interpreted as regex); you can avoid this warning by specifying engine='python'.\n",
      "  df = pd.read_csv('./BinaryStarsNGC5053.tsv', delimiter='\\t+')\n"
     ]
    }
   ],
   "source": [
    "df = pd.read_csv('./BinaryStarsNGC5053.tsv', delimiter='\\t+')"
   ]
  },
  {
   "cell_type": "code",
   "execution_count": 7,
   "id": "e9b1b4eb",
   "metadata": {
    "scrolled": true
   },
   "outputs": [
    {
     "data": {
      "text/html": [
       "<div>\n",
       "<style scoped>\n",
       "    .dataframe tbody tr th:only-of-type {\n",
       "        vertical-align: middle;\n",
       "    }\n",
       "\n",
       "    .dataframe tbody tr th {\n",
       "        vertical-align: top;\n",
       "    }\n",
       "\n",
       "    .dataframe thead th {\n",
       "        text-align: right;\n",
       "    }\n",
       "</style>\n",
       "<table border=\"1\" class=\"dataframe\">\n",
       "  <thead>\n",
       "    <tr style=\"text-align: right;\">\n",
       "      <th></th>\n",
       "      <th>Star</th>\n",
       "      <th>Dist</th>\n",
       "      <th>VR</th>\n",
       "      <th>chi2</th>\n",
       "      <th>P(&lt;chi2)</th>\n",
       "    </tr>\n",
       "  </thead>\n",
       "  <tbody>\n",
       "    <tr>\n",
       "      <th>15</th>\n",
       "      <td>LY22</td>\n",
       "      <td>108.8</td>\n",
       "      <td>292.1</td>\n",
       "      <td>1.110</td>\n",
       "      <td>0.5739</td>\n",
       "    </tr>\n",
       "    <tr>\n",
       "      <th>54</th>\n",
       "      <td>S94</td>\n",
       "      <td>149.8</td>\n",
       "      <td>290.4</td>\n",
       "      <td>0.505</td>\n",
       "      <td>0.7768</td>\n",
       "    </tr>\n",
       "    <tr>\n",
       "      <th>34</th>\n",
       "      <td>SU</td>\n",
       "      <td>286.6</td>\n",
       "      <td>293.1</td>\n",
       "      <td>1.374</td>\n",
       "      <td>0.5031</td>\n",
       "    </tr>\n",
       "    <tr>\n",
       "      <th>20</th>\n",
       "      <td>S66</td>\n",
       "      <td>189.0</td>\n",
       "      <td>290.5</td>\n",
       "      <td>1.901</td>\n",
       "      <td>0.7539</td>\n",
       "    </tr>\n",
       "    <tr>\n",
       "      <th>7</th>\n",
       "      <td>LY116</td>\n",
       "      <td>114.4</td>\n",
       "      <td>289.7</td>\n",
       "      <td>0.508</td>\n",
       "      <td>0.9172</td>\n",
       "    </tr>\n",
       "    <tr>\n",
       "      <th>39</th>\n",
       "      <td>SX</td>\n",
       "      <td>275.8</td>\n",
       "      <td>291.2</td>\n",
       "      <td>10.110</td>\n",
       "      <td>0.0386</td>\n",
       "    </tr>\n",
       "    <tr>\n",
       "      <th>1</th>\n",
       "      <td>LY014</td>\n",
       "      <td>498.8</td>\n",
       "      <td>291.7</td>\n",
       "      <td>3.976</td>\n",
       "      <td>0.5528</td>\n",
       "    </tr>\n",
       "    <tr>\n",
       "      <th>59</th>\n",
       "      <td>LY08</td>\n",
       "      <td>248.5</td>\n",
       "      <td>291.4</td>\n",
       "      <td>0.588</td>\n",
       "      <td>0.4432</td>\n",
       "    </tr>\n",
       "    <tr>\n",
       "      <th>57</th>\n",
       "      <td>LY02</td>\n",
       "      <td>205.4</td>\n",
       "      <td>292.5</td>\n",
       "      <td>0.013</td>\n",
       "      <td>0.9084</td>\n",
       "    </tr>\n",
       "    <tr>\n",
       "      <th>17</th>\n",
       "      <td>S56</td>\n",
       "      <td>53.0</td>\n",
       "      <td>291.1</td>\n",
       "      <td>0.433</td>\n",
       "      <td>0.5104</td>\n",
       "    </tr>\n",
       "  </tbody>\n",
       "</table>\n",
       "</div>"
      ],
      "text/plain": [
       "     Star   Dist     VR    chi2  P(<chi2)\n",
       "15  LY22   108.8  292.1   1.110    0.5739\n",
       "54  S94    149.8  290.4   0.505    0.7768\n",
       "34  SU     286.6  293.1   1.374    0.5031\n",
       "20  S66    189.0  290.5   1.901    0.7539\n",
       "7   LY116  114.4  289.7   0.508    0.9172\n",
       "39  SX     275.8  291.2  10.110    0.0386\n",
       "1   LY014  498.8  291.7   3.976    0.5528\n",
       "59  LY08   248.5  291.4   0.588    0.4432\n",
       "57  LY02   205.4  292.5   0.013    0.9084\n",
       "17  S56     53.0  291.1   0.433    0.5104"
      ]
     },
     "execution_count": 7,
     "metadata": {},
     "output_type": "execute_result"
    }
   ],
   "source": [
    "df.sample(10)"
   ]
  },
  {
   "cell_type": "markdown",
   "id": "7a26cf64",
   "metadata": {},
   "source": [
    "**Data Description:**  \n",
    "*Star* - Name of the star system.  \n",
    "*Dist* - Radial distance of the star from the cluster  \n",
    "*VR* - Weighted Mean Radial Velocity.  \n",
    "*chi2* - Radial Velocity variability over the timespan of 3 years.  \n",
    "*P(<chi2)* - Probability  "
   ]
  },
  {
   "cell_type": "code",
   "execution_count": 8,
   "id": "8876f94a",
   "metadata": {
    "scrolled": false
   },
   "outputs": [
    {
     "data": {
      "text/html": [
       "<div>\n",
       "<style scoped>\n",
       "    .dataframe tbody tr th:only-of-type {\n",
       "        vertical-align: middle;\n",
       "    }\n",
       "\n",
       "    .dataframe tbody tr th {\n",
       "        vertical-align: top;\n",
       "    }\n",
       "\n",
       "    .dataframe thead th {\n",
       "        text-align: right;\n",
       "    }\n",
       "</style>\n",
       "<table border=\"1\" class=\"dataframe\">\n",
       "  <thead>\n",
       "    <tr style=\"text-align: right;\">\n",
       "      <th></th>\n",
       "      <th>Dist</th>\n",
       "      <th>VR</th>\n",
       "      <th>chi2</th>\n",
       "      <th>P(&lt;chi2)</th>\n",
       "    </tr>\n",
       "  </thead>\n",
       "  <tbody>\n",
       "    <tr>\n",
       "      <th>count</th>\n",
       "      <td>77.000000</td>\n",
       "      <td>77.000000</td>\n",
       "      <td>66.000000</td>\n",
       "      <td>66.000000</td>\n",
       "    </tr>\n",
       "    <tr>\n",
       "      <th>mean</th>\n",
       "      <td>210.640260</td>\n",
       "      <td>291.355844</td>\n",
       "      <td>63.162848</td>\n",
       "      <td>0.478300</td>\n",
       "    </tr>\n",
       "    <tr>\n",
       "      <th>std</th>\n",
       "      <td>117.873282</td>\n",
       "      <td>2.339562</td>\n",
       "      <td>484.350757</td>\n",
       "      <td>0.288685</td>\n",
       "    </tr>\n",
       "    <tr>\n",
       "      <th>min</th>\n",
       "      <td>15.200000</td>\n",
       "      <td>286.600000</td>\n",
       "      <td>0.013000</td>\n",
       "      <td>0.000000</td>\n",
       "    </tr>\n",
       "    <tr>\n",
       "      <th>25%</th>\n",
       "      <td>125.100000</td>\n",
       "      <td>290.000000</td>\n",
       "      <td>0.614000</td>\n",
       "      <td>0.265450</td>\n",
       "    </tr>\n",
       "    <tr>\n",
       "      <th>50%</th>\n",
       "      <td>205.400000</td>\n",
       "      <td>291.000000</td>\n",
       "      <td>1.259000</td>\n",
       "      <td>0.498950</td>\n",
       "    </tr>\n",
       "    <tr>\n",
       "      <th>75%</th>\n",
       "      <td>275.800000</td>\n",
       "      <td>292.500000</td>\n",
       "      <td>2.747750</td>\n",
       "      <td>0.711400</td>\n",
       "    </tr>\n",
       "    <tr>\n",
       "      <th>max</th>\n",
       "      <td>513.900000</td>\n",
       "      <td>299.200000</td>\n",
       "      <td>3938.000000</td>\n",
       "      <td>0.942000</td>\n",
       "    </tr>\n",
       "  </tbody>\n",
       "</table>\n",
       "</div>"
      ],
      "text/plain": [
       "             Dist          VR         chi2   P(<chi2)\n",
       "count   77.000000   77.000000    66.000000  66.000000\n",
       "mean   210.640260  291.355844    63.162848   0.478300\n",
       "std    117.873282    2.339562   484.350757   0.288685\n",
       "min     15.200000  286.600000     0.013000   0.000000\n",
       "25%    125.100000  290.000000     0.614000   0.265450\n",
       "50%    205.400000  291.000000     1.259000   0.498950\n",
       "75%    275.800000  292.500000     2.747750   0.711400\n",
       "max    513.900000  299.200000  3938.000000   0.942000"
      ]
     },
     "execution_count": 8,
     "metadata": {},
     "output_type": "execute_result"
    }
   ],
   "source": [
    "df.describe()"
   ]
  },
  {
   "cell_type": "markdown",
   "id": "012fb9a5",
   "metadata": {},
   "source": [
    "Within these stars the binary stars are defined as the ones having *P(<chi2)* $\\lt 0.01$.  "
   ]
  },
  {
   "cell_type": "code",
   "execution_count": 18,
   "id": "2406bb6e",
   "metadata": {},
   "outputs": [],
   "source": [
    "sin_obs = df[df['chi2'].isna()]\n",
    "mul_obs = df[~df['chi2'].isna()]\n",
    "bin_stars = mul_obs[mul_obs['P(<chi2)'] < 0.01]"
   ]
  },
  {
   "cell_type": "code",
   "execution_count": 19,
   "id": "193e260a",
   "metadata": {},
   "outputs": [
    {
     "name": "stdout",
     "output_type": "stream",
     "text": [
      "Total number of star systems present: 77\n",
      "Number of star systems having only a single Radial Velocity measurement: 11\n",
      "Number of star systems having multiple Radial Velocity measurements: 66\n",
      "Number of binary stars among the ones with multiple RV measurements: 6\n"
     ]
    }
   ],
   "source": [
    "print(f'Total number of star systems present: {len(df)}')\n",
    "print(f'Number of star systems having only a single Radial Velocity measurement: {len(sin_obs)}')\n",
    "print(f'Number of star systems having multiple Radial Velocity measurements: {len(mul_obs)}')\n",
    "print(f'Number of binary stars among the ones with multiple RV measurements: {len(bin_stars)}')"
   ]
  },
  {
   "cell_type": "markdown",
   "id": "6d54c985",
   "metadata": {},
   "source": [
    "From the description we can see that only 66 out of the 77 can be used for binary search since the remaining 11 only have a single radial velocity measurement observed."
   ]
  },
  {
   "cell_type": "markdown",
   "id": "ede5360f",
   "metadata": {},
   "source": [
    "### 2. Visualizing the data"
   ]
  },
  {
   "cell_type": "code",
   "execution_count": 42,
   "id": "4270ad7f",
   "metadata": {},
   "outputs": [
    {
     "data": {
      "image/png": "[encoded data removed]",
      "text/plain": [
       "<Figure size 720x480 with 2 Axes>"
      ]
     },
     "metadata": {},
     "output_type": "display_data"
    }
   ],
   "source": [
    "# histogram of Weighted Mean Radial Velocities (VR)\n",
    "fig, ax = plt.subplots(1, 2)\n",
    "ax[0].hist(df['VR'])\n",
    "ax[0].set_xlabel('Weighted Mean Radial Velocity', size = 10)\n",
    "ax[0].set_ylabel('Counts', size = 10)\n",
    "ax[0].set_title('Histogram of the VR (Entire Data)', size = 10)\n",
    "ax[1].hist(mul_obs['VR'])\n",
    "ax[1].set_xlabel('Weighted Mean Radial Velocity', size = 10)\n",
    "ax[1].set_ylabel('Counts', size = 10)\n",
    "ax[1].set_title('Histogram of the VR (Mutiple obs. star systems)', size = 10)\n",
    "\n",
    "plt.show()"
   ]
  },
  {
   "cell_type": "code",
   "execution_count": 50,
   "id": "b60d7a62",
   "metadata": {},
   "outputs": [
    {
     "data": {
      "image/png": "[encoded data removed]",
      "text/plain": [
       "<Figure size 720x480 with 1 Axes>"
      ]
     },
     "metadata": {},
     "output_type": "display_data"
    }
   ],
   "source": [
    "plt.hist(mul_obs['P(<chi2)'])\n",
    "plt.vlines(0.01, 0, 20, label = \"Binary Star Cut-off\", color='r')\n",
    "plt.xlabel('Probability', size=10)\n",
    "plt.ylabel('Counts', size=10)\n",
    "plt.title('Histogram of the probabilities P(<chi2)', size=10)\n",
    "plt.legend(prop={'size': 10})\n",
    "plt.show()"
   ]
  },
  {
   "cell_type": "markdown",
   "id": "4993b698",
   "metadata": {},
   "source": [
    "### 3. Model"
   ]
  },
  {
   "cell_type": "markdown",
   "id": "79a38814",
   "metadata": {},
   "source": [
    "1. $\\theta$, the probability that the star system is binary.  \n",
    "2. $\\theta \\in [0, 1]$  \n",
    "3. $ x = 6, n = 66 $  \n",
    "4. $ \\mathcal{X} \\in \\{0, 1\\}^{n} $  \n",
    "5. $ X | \\theta  \\in Binomial(n, \\theta) $  \n",
    "6. Given $ a > 0, b > 0 $, then $ \\theta \\sim Beta(a, b) $ (since beta is the conjugate prior of binomial). "
   ]
  },
  {
   "cell_type": "markdown",
   "id": "146797c1",
   "metadata": {},
   "source": [
    "Posterior is $\\theta|x \\sim Beta(a+x, n+b-x)$  "
   ]
  },
  {
   "cell_type": "markdown",
   "id": "de08cb61",
   "metadata": {},
   "source": [
    "$E[X] = \\frac{a}{a+b}$  "
   ]
  },
  {
   "cell_type": "markdown",
   "id": "27f10052",
   "metadata": {},
   "source": [
    "$Var[X] = \\frac{ab}{(a+b)^2 (a+b+1)}$  "
   ]
  },
  {
   "cell_type": "markdown",
   "id": "7be2e037",
   "metadata": {},
   "source": [
    "Assuming that the probability of a star system is binary is uniform, a = 1, b = 1"
   ]
  },
  {
   "cell_type": "markdown",
   "id": "934e64d0",
   "metadata": {},
   "source": [
    "That would make the posterior $ => $ $ \\theta | x \\sim Beta(7, 61) $  \n",
    "and $E[X] = \\frac{1}{2} , Var[X] = \\frac{1}{12} $"
   ]
  },
  {
   "cell_type": "markdown",
   "id": "a6c93bb1",
   "metadata": {},
   "source": [
    " "
   ]
  },
  {
   "cell_type": "code",
   "execution_count": null,
   "id": "3519262d",
   "metadata": {},
   "outputs": [],
   "source": []
  },
  {
   "cell_type": "code",
   "execution_count": 52,
   "id": "66f7805f",
   "metadata": {},
   "outputs": [],
   "source": [
    "a = 1\n",
    "b = 1"
   ]
  },
  {
   "cell_type": "code",
   "execution_count": null,
   "id": "63dd953b",
   "metadata": {},
   "outputs": [],
   "source": []
  }
 ],
 "metadata": {
  "kernelspec": {
   "display_name": "Python 3 (ipykernel)",
   "language": "python",
   "name": "python3"
  },
  "language_info": {
   "codemirror_mode": {
    "name": "ipython",
    "version": 3
   },
   "file_extension": ".py",
   "mimetype": "text/x-python",
   "name": "python",
   "nbconvert_exporter": "python",
   "pygments_lexer": "ipython3",
   "version": "3.11.5"
  }
 },
 "nbformat": 4,
 "nbformat_minor": 5
}
